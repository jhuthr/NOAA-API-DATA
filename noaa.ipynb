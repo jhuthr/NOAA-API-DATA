{
 "cells": [
  {
   "cell_type": "code",
   "execution_count": 46,
   "metadata": {},
   "outputs": [],
   "source": [
    "import requests"
   ]
  },
  {
   "cell_type": "code",
   "execution_count": 47,
   "metadata": {},
   "outputs": [],
   "source": [
    "port_response = requests.get(\"https://api.tidesandcurrents.noaa.gov/mdapi/prod/webapi/ports.json\").text"
   ]
  },
  {
   "cell_type": "code",
   "execution_count": 48,
   "metadata": {},
   "outputs": [],
   "source": [
    "import json"
   ]
  },
  {
   "cell_type": "code",
   "execution_count": 49,
   "metadata": {},
   "outputs": [],
   "source": [
    "port_response_dict = json.loads(port_response)"
   ]
  },
  {
   "cell_type": "code",
   "execution_count": 50,
   "metadata": {},
   "outputs": [],
   "source": [
    "from collections import defaultdict"
   ]
  },
  {
   "cell_type": "markdown",
   "metadata": {},
   "source": [
    "# Useful arrays "
   ]
  },
  {
   "cell_type": "code",
   "execution_count": 51,
   "metadata": {},
   "outputs": [],
   "source": [
    "products = {\n",
    "    \"waterlevel\" : \"water_level\",\n",
    "    \"wind\" : \"wind\",\n",
    "    \"currents\" : \"currents\",\n",
    "    \"airTemp\" : \"air_temperature\",\n",
    "    \"waterTemp\" : \"water_temperature\",\n",
    "    \"baroPressure\" : \"air_pressure\",\n",
    "    \"salinity\" : \"salinity\",\n",
    "    \"airGap\" : \"air_gap\",\n",
    "    \"relHumidity\" : \"humidity\",\n",
    "    \"visibility\" : \"visibility\",\n",
    "}"
   ]
  },
  {
   "cell_type": "code",
   "execution_count": 52,
   "metadata": {},
   "outputs": [],
   "source": [
    "feed_template = {\n",
    "    \"Dataset Name\" : \"Water Levels / $STATION$, $PORT$\",\n",
    "    # Water Levels / Kiptopeke Beach, Chesapeake Bay South\n",
    "    \"Latitude\" : \"$LAT$\",\n",
    "    # 37.1652\n",
    "    \"Longitude\" : \"$LON$\",\n",
    "    # -75.9884\n",
    "    \"Notes\" : \"$STATION$, Sensor $ID$\",\n",
    "    # Kiptopeke Beach, Sensor 8632200\n",
    "    \"Dataset URL\" : \"$URL$\"\n",
    "    # https://api.tidesandcurrents.noaa.gov/api/prod/datagetter?date=latest&station=8632200&product=water_level&datum=STND&time_zone=gmt&units=english&format=json&application=TERBINE_IO\n",
    "}"
   ]
  },
  {
   "cell_type": "code",
   "execution_count": 53,
   "metadata": {},
   "outputs": [],
   "source": [
    "def replace(item, feed_dict):\n",
    "    if type(item) is str:\n",
    "        for replace_key, replace_val in feed_dict.items():\n",
    "            item = item.replace(replace_key, str(replace_val))\n",
    "    return item"
   ]
  },
  {
   "cell_type": "code",
   "execution_count": 54,
   "metadata": {},
   "outputs": [],
   "source": [
    "def dict_replace(feed_template, feed_dict):\n",
    "    new_feed = feed_template.copy()\n",
    "    for key in new_feed.keys():\n",
    "        new_feed[key] = replace(new_feed[key], feed_dict)\n",
    "    return new_feed"
   ]
  },
  {
   "cell_type": "code",
   "execution_count": 55,
   "metadata": {},
   "outputs": [],
   "source": [
    "def getStationsURL(port):\n",
    "    return (\n",
    "        \"https://api.tidesandcurrents.noaa.gov/mdapi/prod/webapi/portsstation.json?ports=\" \n",
    "        + port\n",
    "        )"
   ]
  },
  {
   "cell_type": "code",
   "execution_count": 56,
   "metadata": {},
   "outputs": [],
   "source": [
    "def getStations(port):\n",
    "    station_response = requests.get(getStationsURL(port)).text\n",
    "    return json.loads(station_response)"
   ]
  },
  {
   "cell_type": "code",
   "execution_count": 57,
   "metadata": {},
   "outputs": [],
   "source": [
    "def getProductURL(product, id):\n",
    "    return (\n",
    "        \"https://api.tidesandcurrents.noaa.gov/api/prod/datagetter?date=latest&station=\"\n",
    "        + id\n",
    "        + \"&product=\"\n",
    "        + product\n",
    "        + \"&datum=STND&time_zone=gmt&units=english&format=json&application=TERBINE_IO\"\n",
    "        )"
   ]
  },
  {
   "cell_type": "code",
   "execution_count": 58,
   "metadata": {},
   "outputs": [],
   "source": [
    "def getProduct(product, id):\n",
    "    station_response = requests.get(getProductURL(product, id)).text\n",
    "    return json.loads(station_response)"
   ]
  },
  {
   "cell_type": "code",
   "execution_count": 59,
   "metadata": {},
   "outputs": [],
   "source": [
    "def requestProductsFromStation(station, requested_products, print_err=False):\n",
    "    available_products = []\n",
    "    #print(station['stationID'])\n",
    "\n",
    "    for key in station.keys():\n",
    "        if key in products.keys():\n",
    "\n",
    "            product_bool = station[key]\n",
    "            product = products[key]\n",
    "        \n",
    "            if product_bool and product in requested_products:\n",
    "                product_response = getProduct(product, station['stationID'])\n",
    "\n",
    "                if 'error' in product_response.keys():\n",
    "                    if print_err:\n",
    "                        print(\"There was an error with product '\", key, \"(\", product, \")' at station\", station['stationID'], \"(\", station['label'],\")\")\n",
    "                        print('\\t', \"ERROR: \",product_response['error']['message'])\n",
    "                else:\n",
    "                    #print(product_response['data'][0])\n",
    "                    available_products.append(product)\n",
    "\n",
    "    return available_products"
   ]
  },
  {
   "cell_type": "markdown",
   "metadata": {},
   "source": [
    "## The products we want to create a Feed for"
   ]
  },
  {
   "cell_type": "code",
   "execution_count": 60,
   "metadata": {},
   "outputs": [],
   "source": [
    "requested_products = [\"water_level\"]"
   ]
  },
  {
   "cell_type": "code",
   "execution_count": 61,
   "metadata": {},
   "outputs": [],
   "source": [
    "def feed_write(path, feed_dict):\n",
    "    with open(path, 'a') as f:\n",
    "        # clear file\n",
    "        for val in feed_dict.values():\n",
    "            f.write(val)\n",
    "            f.write('\\n')\n",
    "        f.write(\"\\n\\n\")\n",
    "    f.close()"
   ]
  },
  {
   "cell_type": "code",
   "execution_count": 62,
   "metadata": {},
   "outputs": [],
   "source": [
    "def clear_file(path):\n",
    "    with open(path, 'w') as f:\n",
    "        f.truncate(0)\n",
    "    f.close()"
   ]
  },
  {
   "cell_type": "code",
   "execution_count": 63,
   "metadata": {},
   "outputs": [],
   "source": [
    "def idValid(id, id_json):\n",
    "    for a in id_json.values():\n",
    "        if id in a:\n",
    "            return False\n",
    "    return True"
   ]
  },
  {
   "cell_type": "code",
   "execution_count": 64,
   "metadata": {},
   "outputs": [],
   "source": [
    "with open('json_data.json') as json_file:\n",
    "    data = json.load(json_file)\n",
    "    id_json = defaultdict(list, data)"
   ]
  },
  {
   "cell_type": "code",
   "execution_count": 65,
   "metadata": {},
   "outputs": [],
   "source": [
    "path = \"readme.md\"\n",
    "clear_file(path)\n",
    "\n",
    "used_stations = []\n",
    "used_ports = []\n",
    "\n",
    "for port in port_response_dict['portsList'][11:14]:\n",
    "    #print(port['PORTSCode'], \":\")\n",
    "    station_response_dict = getStations(port['PORTSCode'])\n",
    "\n",
    "    for station in station_response_dict['portsStationList']:\n",
    "        sID = station['stationID']\n",
    "\n",
    "        if sID.isnumeric() and idValid(sID, id_json):\n",
    "            available_products = requestProductsFromStation(station, requested_products)\n",
    "\n",
    "            for product in available_products:\n",
    "            # use each product to create a feed\n",
    "                if sID not in used_stations:\n",
    "                    used_stations.append(sID)\n",
    "                if port['PORTSCode'] not in used_ports:\n",
    "                    used_ports.append(port['PORTSCode'])\n",
    "                \n",
    "                feed_dict = {\n",
    "                    \"$PORT$\": port['PORTSName'],\n",
    "                    \"$STATION$\": station['label'],\n",
    "                    \"$LAT$\": station['lat'],\n",
    "                    \"$LON$\": station['lng'],\n",
    "                    \"$ID$\": sID,\n",
    "                    \"$URL$\": getProductURL(product, sID),\n",
    "                    # some names have a /, replace with a space\n",
    "                }\n",
    "                var_replace = {\n",
    "                    \" PORTS\" : \"\",\n",
    "                    \"/\" : \" \",\n",
    "                }\n",
    "\n",
    "                id_json[port['PORTSCode']].append(sID)\n",
    "                # track used IDS\n",
    "\n",
    "                feed_dict['$PORT$'] = replace(feed_dict['$PORT$'], var_replace)\n",
    "                # remove some bad chars from the values of these vars\n",
    "                feed_formatted = dict_replace(feed_template, feed_dict)\n",
    "                # format feed using above dict\n",
    "                feed_write(path, feed_formatted)\n",
    "                # write feed for output\n"
   ]
  },
  {
   "cell_type": "code",
   "execution_count": 66,
   "metadata": {},
   "outputs": [],
   "source": [
    "    f = open(path, \"a\")\n",
    "    f.write(str(len(used_ports)) + \" Port(s), \" + str(len(used_stations)) + \" Station(s).\")\n",
    "    # print line for #Searcher-Submissions\n",
    "    f.write('\\n')\n",
    "    f.close()"
   ]
  },
  {
   "cell_type": "code",
   "execution_count": 67,
   "metadata": {},
   "outputs": [],
   "source": [
    "with open('json_data.json', 'w') as outfile:\n",
    "    json.dump(id_json, outfile, indent=4)"
   ]
  }
 ],
 "metadata": {
  "interpreter": {
   "hash": "aee8b7b246df8f9039afb4144a1f6fd8d2ca17a180786b69acc140d282b71a49"
  },
  "kernelspec": {
   "display_name": "Python 3.10.1 64-bit",
   "language": "python",
   "name": "python3"
  },
  "language_info": {
   "codemirror_mode": {
    "name": "ipython",
    "version": 3
   },
   "file_extension": ".py",
   "mimetype": "text/x-python",
   "name": "python",
   "nbconvert_exporter": "python",
   "pygments_lexer": "ipython3",
   "version": "3.8.8"
  },
  "orig_nbformat": 4
 },
 "nbformat": 4,
 "nbformat_minor": 2
}
